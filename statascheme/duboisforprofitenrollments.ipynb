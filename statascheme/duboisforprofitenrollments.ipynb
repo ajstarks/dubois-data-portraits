{
 "cells": [
  {
   "cell_type": "code",
   "execution_count": 1,
   "metadata": {},
   "outputs": [],
   "source": [
    "%set graph_format svg"
   ]
  },
  {
   "cell_type": "code",
   "execution_count": 1,
   "metadata": {},
   "outputs": [],
   "source": [
    "quietly {\n",
    "use bankers_forprofits, replace\n",
    "foreach var in whitt totlt bkaat {\n",
    "    egen under`var'=rowtotal(ptunderef`var' ftunderef`var'), missing\n",
    "}\n",
    "drop if year<1995\n",
    "collapse (rawsum) under* , by(control year)\n",
    "foreach var in underbkaat underwhitt {\n",
    "bysort year: egen total`var'=total(`var')\n",
    "gen pct`var'=`var'/total`var' * 100\n",
    "}\n",
    "keep if control==3\n",
    "keep pctunderbkaat pctunderwhitt year control\n",
    "}"
   ]
  },
  {
   "cell_type": "code",
   "execution_count": 2,
   "metadata": {},
   "outputs": [
    {
     "data": {
      "application/pdf": "[encoded data removed]",
      "text/plain": [
       "This front-end cannot display the desired image type."
      ]
     },
     "metadata": {},
     "output_type": "display_data"
    },
    {
     "name": "stdout",
     "output_type": "stream",
     "text": [
      "\n",
      "\n",
      "\n",
      "(file duboisforprofits.pdf written in PDF format)\n"
     ]
    }
   ],
   "source": [
    "tw (connect pctunderbkaat pctunderwhitt year if year>1994, sort ///\n",
    "legend(order(1 \"Black\" 2 \"white\") bmargin(vlarge) ring(0) position(11)) ///\n",
    "\txlabel(1995(5)2015) ///\n",
    "\tytitle(\"% US undergrads enrolled at for-profits\") ///\n",
    "\txtitle(\"\") scheme(dubois) ///\n",
    "    title(\"SHARE OF ALL U.S. UNDERGRADS\" \"ENROLLED AT FOR-PROFIT COLLEGES BY RACE\") ///\n",
    "    subtitle(\"By Charlie Eaton, University of California-Merced\") ///\n",
    "    note(\"Design based on Plate 40 of Du Bois 1900 Paris Exhibition (Battle-Baptiste\" \"& Russert 2018; Stark 2019). Rendered using Du Bois Stata scheme:\" ///\n",
    "    \"https://github.com/charlieeatonphd/dubois-data-portraits\"))\n",
    "graph export duboisforprofits.pdf, replace"
   ]
  },
  {
   "cell_type": "code",
   "execution_count": 3,
   "metadata": {},
   "outputs": [
    {
     "name": "stdout",
     "output_type": "stream",
     "text": [
      "\n",
      "     +---------------------------------------+\n",
      "     | year   contro~n   pctun~at   pctun~tt |\n",
      "     |---------------------------------------|\n",
      "  1. | 1995          3   7.448499    3.64571 |\n",
      "  2. | 1996          3   7.538774   3.574949 |\n",
      "  3. | 1997          3   7.146708    3.29165 |\n",
      "  4. | 1998          3   6.884762   3.292242 |\n",
      "  5. | 1999          3   7.214427   3.634142 |\n",
      "     |---------------------------------------|\n",
      "  6. | 2000          3   7.421838   3.578652 |\n",
      "  7. | 2001          3   7.426902   3.398357 |\n",
      "  8. | 2002          3   8.415788   3.735366 |\n",
      "  9. | 2003          3   8.683502   3.629119 |\n",
      " 10. | 2004          3   9.926032   4.145864 |\n",
      "     |---------------------------------------|\n",
      " 11. | 2005          3   10.87337   4.707864 |\n",
      " 12. | 2006          3   12.14934   5.260962 |\n",
      " 13. | 2007          3    12.3966   5.138046 |\n",
      " 14. | 2008          3   13.23893    5.54493 |\n",
      " 15. | 2009          3   15.55692   6.145695 |\n",
      "     |---------------------------------------|\n",
      " 16. | 2010          3   17.74415   7.058594 |\n",
      " 17. | 2011          3   19.06433   7.936503 |\n",
      " 18. | 2012          3    18.5277   7.888471 |\n",
      " 19. | 2013          3   18.05778   7.365822 |\n",
      " 20. | 2014          3   17.39003   6.865711 |\n",
      "     |---------------------------------------|\n",
      " 21. | 2015          3   16.82232   6.385098 |\n",
      "     +---------------------------------------+\n"
     ]
    }
   ],
   "source": [
    "list"
   ]
  },
  {
   "cell_type": "code",
   "execution_count": null,
   "metadata": {},
   "outputs": [],
   "source": []
  }
 ],
 "metadata": {
  "kernelspec": {
   "display_name": "Stata",
   "language": "stata",
   "name": "stata"
  },
  "language_info": {
   "codemirror_mode": "stata",
   "file_extension": ".do",
   "mimetype": "text/x-stata",
   "name": "stata",
   "version": "15.1"
  }
 },
 "nbformat": 4,
 "nbformat_minor": 4
}
