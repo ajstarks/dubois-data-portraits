{
 "cells": [
  {
   "cell_type": "code",
   "execution_count": 1,
   "metadata": {},
   "outputs": [],
   "source": [
    "%set graph_format svg"
   ]
  },
  {
   "cell_type": "code",
   "execution_count": 2,
   "metadata": {},
   "outputs": [],
   "source": [
    "quietly {\n",
    "use bankers_forprofits, replace\n",
    "foreach var in whitt totlt bkaat {\n",
    "    egen under`var'=rowtotal(ptunderef`var' ftunderef`var'), missing\n",
    "}\n",
    "drop if year<1995\n",
    "collapse (rawsum) under* , by(control year)\n",
    "foreach var in underbkaat underwhitt {\n",
    "bysort year: egen total`var'=total(`var')\n",
    "gen pct`var'=`var'/total`var' * 100\n",
    "}\n",
    "keep if control==3\n",
    "keep pctunderbkaat pctunderwhitt year control\n",
    "}"
   ]
  },
  {
   "cell_type": "code",
   "execution_count": 3,
   "metadata": {},
   "outputs": [
    {
     "data": {
      "application/pdf": "[encoded data removed]",
      "image/svg+xml": [
       "<?xml version=\"1.0\" encoding=\"UTF-8\" standalone=\"no\"?>\n",
       "<!-- This is a Stata 15.1 generated SVG file (http://www.stata.com) -->\n",
       "\n",
       "<svg version=\"1.1\" width=\"600px\" height=\"764px\" viewBox=\"0 0 4320 5498\" xmlns=\"http://www.w3.org/2000/svg\" xmlns:xlink=\"http://www.w3.org/1999/xlink\">\n",
       "\t<desc>Stata Graph - Graph</desc>\n",
       "\t<rect x=\"0\" y=\"0\" width=\"4320\" height=\"5498\" style=\"fill:#FAF0E6;stroke:none\"/>\n",
       "\t<rect x=\"0.00\" y=\"0.00\" width=\"4320.00\" height=\"5498.00\" style=\"fill:#FAF0E6\"/>\n",
       "\t<rect x=\"4.32\" y=\"4.32\" width=\"4311.36\" height=\"5489.36\" style=\"fill:none;stroke:#FAF0E6;stroke-width:8.64\"/>\n",
       "\t<rect x=\"578.66\" y=\"674.88\" width=\"3590.15\" height=\"4125.22\" style=\"fill:#FAF0E6\"/>\n",
       "\t<rect x=\"582.98\" y=\"679.20\" width=\"3581.51\" height=\"4116.58\" style=\"fill:none;stroke:#FAF0E6;stroke-width:8.64\"/>\n",
       "\t<line x1=\"578.66\" y1=\"4705.09\" x2=\"4168.81\" y2=\"4705.09\" style=\"stroke:#9B9B9B;stroke-width:8.64\"/>\n",
       "\t<line x1=\"578.66\" y1=\"3721.29\" x2=\"4168.81\" y2=\"3721.29\" style=\"stroke:#9B9B9B;stroke-width:8.64\"/>\n",
       "\t<line x1=\"578.66\" y1=\"2737.49\" x2=\"4168.81\" y2=\"2737.49\" style=\"stroke:#9B9B9B;stroke-width:8.64\"/>\n",
       "\t<line x1=\"578.66\" y1=\"1753.69\" x2=\"4168.81\" y2=\"1753.69\" style=\"stroke:#9B9B9B;stroke-width:8.64\"/>\n",
       "\t<line x1=\"578.66\" y1=\"769.89\" x2=\"4168.81\" y2=\"769.89\" style=\"stroke:#9B9B9B;stroke-width:8.64\"/>\n",
       "\t<line x1=\"673.84\" y1=\"4800.10\" x2=\"673.84\" y2=\"674.88\" style=\"stroke:#9B9B9B;stroke-width:8.64\"/>\n",
       "\t<line x1=\"1523.79\" y1=\"4800.10\" x2=\"1523.79\" y2=\"674.88\" style=\"stroke:#9B9B9B;stroke-width:8.64\"/>\n",
       "\t<line x1=\"2373.73\" y1=\"4800.10\" x2=\"2373.73\" y2=\"674.88\" style=\"stroke:#9B9B9B;stroke-width:8.64\"/>\n",
       "\t<line x1=\"3223.68\" y1=\"4800.10\" x2=\"3223.68\" y2=\"674.88\" style=\"stroke:#9B9B9B;stroke-width:8.64\"/>\n",
       "\t<line x1=\"4073.80\" y1=\"4800.10\" x2=\"4073.80\" y2=\"674.88\" style=\"stroke:#9B9B9B;stroke-width:8.64\"/>\n",
       "\t<path d=\" M673.67 3239.52 L843.76 3221.83 L1013.68 3298.97 L1183.60 3350.52 L1353.69 3285.57 L1523.61 3244.85 L1693.71 3243.82 L1863.63 3049.33 L2033.72 2996.58 L2203.64 2752.09 L2373.73 2565.68 L2543.65 2314.66 L2713.74 2266.04 L2883.67 2100.24 L3053.76 1644.25 L3223.68 1213.86 L3393.60 954.07 L3563.69 1059.74 L3733.61 1152.17 L3903.70 1283.44 L4073.62 1395.29\" stroke-linecap=\"round\" stroke-linejoin=\"round\" style=\"fill:none;stroke:#DC143C;stroke-width:34.56\"/>\n",
       "\t<path d=\" M673.67 3987.77 L843.76 4001.68 L1013.68 4057.52 L1183.60 4057.35 L1353.69 3990.00 L1523.61 4001.00 L1693.71 4036.39 L1863.63 3970.07 L2033.72 3991.03 L2203.64 3889.32 L2373.73 3778.84 L2543.65 3669.91 L2713.74 3694.14 L2883.67 3614.08 L3053.76 3495.87 L3223.68 3316.32 L3393.60 3143.48 L3563.69 3152.93 L3733.61 3255.85 L3903.70 3354.30 L4073.62 3448.79\" stroke-linecap=\"round\" stroke-linejoin=\"round\" style=\"fill:none;stroke:#008000;stroke-width:34.56\"/>\n",
       "\t<line x1=\"578.66\" y1=\"4705.09\" x2=\"518.70\" y2=\"4705.09\" style=\"stroke:#9B9B9B;stroke-width:8.64\"/>\n",
       "\t<text x=\"488.80\" y=\"4747.10\" style=\"font-family:'Helvetica';font-size:119.92px;fill:#000000\" text-anchor=\"end\">0</text>\n",
       "\t<line x1=\"578.66\" y1=\"3721.29\" x2=\"518.70\" y2=\"3721.29\" style=\"stroke:#9B9B9B;stroke-width:8.64\"/>\n",
       "\t<text x=\"488.80\" y=\"3763.30\" style=\"font-family:'Helvetica';font-size:119.92px;fill:#000000\" text-anchor=\"end\">5</text>\n",
       "\t<line x1=\"578.66\" y1=\"2737.49\" x2=\"518.70\" y2=\"2737.49\" style=\"stroke:#9B9B9B;stroke-width:8.64\"/>\n",
       "\t<text x=\"488.80\" y=\"2779.51\" style=\"font-family:'Helvetica';font-size:119.92px;fill:#000000\" text-anchor=\"end\">10</text>\n",
       "\t<line x1=\"578.66\" y1=\"1753.69\" x2=\"518.70\" y2=\"1753.69\" style=\"stroke:#9B9B9B;stroke-width:8.64\"/>\n",
       "\t<text x=\"488.80\" y=\"1795.71\" style=\"font-family:'Helvetica';font-size:119.92px;fill:#000000\" text-anchor=\"end\">15</text>\n",
       "\t<line x1=\"578.66\" y1=\"769.89\" x2=\"518.70\" y2=\"769.89\" style=\"stroke:#9B9B9B;stroke-width:8.64\"/>\n",
       "\t<text x=\"488.80\" y=\"811.91\" style=\"font-family:'Helvetica';font-size:119.92px;fill:#000000\" text-anchor=\"end\">20</text>\n",
       "\t<text x=\"265.12\" y=\"2737.49\" style=\"font-family:'Helvetica';font-size:119.92px;fill:#000000\" transform=\"rotate(-90 265.12,2737.49)\" text-anchor=\"middle\">% US undergrads enrolled at for-profits</text>\n",
       "\t<line x1=\"673.84\" y1=\"4800.10\" x2=\"673.84\" y2=\"4860.06\" style=\"stroke:#9B9B9B;stroke-width:8.64\"/>\n",
       "\t<text x=\"673.84\" y=\"4973.99\" style=\"font-family:'Helvetica';font-size:119.92px;fill:#000000\" text-anchor=\"middle\">1995</text>\n",
       "\t<line x1=\"1523.79\" y1=\"4800.10\" x2=\"1523.79\" y2=\"4860.06\" style=\"stroke:#9B9B9B;stroke-width:8.64\"/>\n",
       "\t<text x=\"1523.79\" y=\"4973.99\" style=\"font-family:'Helvetica';font-size:119.92px;fill:#000000\" text-anchor=\"middle\">2000</text>\n",
       "\t<line x1=\"2373.73\" y1=\"4800.10\" x2=\"2373.73\" y2=\"4860.06\" style=\"stroke:#9B9B9B;stroke-width:8.64\"/>\n",
       "\t<text x=\"2373.73\" y=\"4973.99\" style=\"font-family:'Helvetica';font-size:119.92px;fill:#000000\" text-anchor=\"middle\">2005</text>\n",
       "\t<line x1=\"3223.68\" y1=\"4800.10\" x2=\"3223.68\" y2=\"4860.06\" style=\"stroke:#9B9B9B;stroke-width:8.64\"/>\n",
       "\t<text x=\"3223.68\" y=\"4973.99\" style=\"font-family:'Helvetica';font-size:119.92px;fill:#000000\" text-anchor=\"middle\">2010</text>\n",
       "\t<line x1=\"4073.80\" y1=\"4800.10\" x2=\"4073.80\" y2=\"4860.06\" style=\"stroke:#9B9B9B;stroke-width:8.64\"/>\n",
       "\t<text x=\"4073.80\" y=\"4973.99\" style=\"font-family:'Helvetica';font-size:119.92px;fill:#000000\" text-anchor=\"middle\">2015</text>\n",
       "\t<rect x=\"1097.18\" y=\"1193.24\" width=\"736.55\" height=\"429.53\" style=\"fill:#FAF0E6\"/>\n",
       "\t<rect x=\"1101.50\" y=\"1197.56\" width=\"727.91\" height=\"420.89\" style=\"fill:none;stroke:#FAF0E6;stroke-width:8.64\"/>\n",
       "\t<line x1=\"1161.95\" y1=\"1317.97\" x2=\"1377.92\" y2=\"1317.97\" style=\"stroke:#DC143C;stroke-width:34.56\"/>\n",
       "\t<line x1=\"1161.95\" y1=\"1498.03\" x2=\"1377.92\" y2=\"1498.03\" style=\"stroke:#008000;stroke-width:34.56\"/>\n",
       "\t<text x=\"1467.95\" y=\"1359.99\" style=\"font-family:'Helvetica';font-size:119.92px;fill:#000000\">Black</text>\n",
       "\t<text x=\"1467.95\" y=\"1540.05\" style=\"font-family:'Helvetica';font-size:119.92px;fill:#000000\">white</text>\n",
       "\t<text x=\"177.14\" y=\"5164.87\" style=\"font-family:'Helvetica';font-size:119.92px;fill:#000000\">Design based on Plate 40 of Du Bois 1900 Paris Exhibition (Battle-Baptiste</text>\n",
       "\t<text x=\"177.14\" y=\"5284.80\" style=\"font-family:'Helvetica';font-size:119.92px;fill:#000000\">&amp; Russert 2018; Stark 2019). Rendered using Du Bois Stata scheme:</text>\n",
       "\t<text x=\"2160.00\" y=\"612.87\" style=\"font-family:'Helvetica';font-size:119.92px;fill:#000000\" text-anchor=\"middle\">By Charlie Eaton, University of California-Merced</text>\n",
       "\t<text x=\"2160.00\" y=\"282.05\" style=\"font-family:'Helvetica';font-size:149.99px;fill:#000000\" text-anchor=\"middle\">SHARE OF ALL U.S. UNDERGRADS</text>\n",
       "\t<text x=\"2160.00\" y=\"432.04\" style=\"font-family:'Helvetica';font-size:149.99px;fill:#000000\" text-anchor=\"middle\">ENROLLED AT FOR-PROFIT COLLEGES BY RACE</text>\n",
       "</svg>\n"
      ],
      "text/html": [
       "                <iframe frameborder=\"0\" scrolling=\"no\" height=\"764\" width=\"600\"                srcdoc=\"<html><body>&lt;?xml version=&quot;1.0&quot; encoding=&quot;UTF-8&quot; standalone=&quot;no&quot;?&gt;\n",
       "&lt;!-- This is a Stata 15.1 generated SVG file (http://www.stata.com) --&gt;\n",
       "\n",
       "&lt;svg version=&quot;1.1&quot; width=&quot;600px&quot; height=&quot;764px&quot; viewBox=&quot;0 0 4320 5498&quot; xmlns=&quot;http://www.w3.org/2000/svg&quot; xmlns:xlink=&quot;http://www.w3.org/1999/xlink&quot;&gt;\n",
       "\t&lt;desc&gt;Stata Graph - Graph&lt;/desc&gt;\n",
       "\t&lt;rect x=&quot;0&quot; y=&quot;0&quot; width=&quot;4320&quot; height=&quot;5498&quot; style=&quot;fill:#FAF0E6;stroke:none&quot;/&gt;\n",
       "\t&lt;rect x=&quot;0.00&quot; y=&quot;0.00&quot; width=&quot;4320.00&quot; height=&quot;5498.00&quot; style=&quot;fill:#FAF0E6&quot;/&gt;\n",
       "\t&lt;rect x=&quot;4.32&quot; y=&quot;4.32&quot; width=&quot;4311.36&quot; height=&quot;5489.36&quot; style=&quot;fill:none;stroke:#FAF0E6;stroke-width:8.64&quot;/&gt;\n",
       "\t&lt;rect x=&quot;578.66&quot; y=&quot;674.88&quot; width=&quot;3590.15&quot; height=&quot;4125.22&quot; style=&quot;fill:#FAF0E6&quot;/&gt;\n",
       "\t&lt;rect x=&quot;582.98&quot; y=&quot;679.20&quot; width=&quot;3581.51&quot; height=&quot;4116.58&quot; style=&quot;fill:none;stroke:#FAF0E6;stroke-width:8.64&quot;/&gt;\n",
       "\t&lt;line x1=&quot;578.66&quot; y1=&quot;4705.09&quot; x2=&quot;4168.81&quot; y2=&quot;4705.09&quot; style=&quot;stroke:#9B9B9B;stroke-width:8.64&quot;/&gt;\n",
       "\t&lt;line x1=&quot;578.66&quot; y1=&quot;3721.29&quot; x2=&quot;4168.81&quot; y2=&quot;3721.29&quot; style=&quot;stroke:#9B9B9B;stroke-width:8.64&quot;/&gt;\n",
       "\t&lt;line x1=&quot;578.66&quot; y1=&quot;2737.49&quot; x2=&quot;4168.81&quot; y2=&quot;2737.49&quot; style=&quot;stroke:#9B9B9B;stroke-width:8.64&quot;/&gt;\n",
       "\t&lt;line x1=&quot;578.66&quot; y1=&quot;1753.69&quot; x2=&quot;4168.81&quot; y2=&quot;1753.69&quot; style=&quot;stroke:#9B9B9B;stroke-width:8.64&quot;/&gt;\n",
       "\t&lt;line x1=&quot;578.66&quot; y1=&quot;769.89&quot; x2=&quot;4168.81&quot; y2=&quot;769.89&quot; style=&quot;stroke:#9B9B9B;stroke-width:8.64&quot;/&gt;\n",
       "\t&lt;line x1=&quot;673.84&quot; y1=&quot;4800.10&quot; x2=&quot;673.84&quot; y2=&quot;674.88&quot; style=&quot;stroke:#9B9B9B;stroke-width:8.64&quot;/&gt;\n",
       "\t&lt;line x1=&quot;1523.79&quot; y1=&quot;4800.10&quot; x2=&quot;1523.79&quot; y2=&quot;674.88&quot; style=&quot;stroke:#9B9B9B;stroke-width:8.64&quot;/&gt;\n",
       "\t&lt;line x1=&quot;2373.73&quot; y1=&quot;4800.10&quot; x2=&quot;2373.73&quot; y2=&quot;674.88&quot; style=&quot;stroke:#9B9B9B;stroke-width:8.64&quot;/&gt;\n",
       "\t&lt;line x1=&quot;3223.68&quot; y1=&quot;4800.10&quot; x2=&quot;3223.68&quot; y2=&quot;674.88&quot; style=&quot;stroke:#9B9B9B;stroke-width:8.64&quot;/&gt;\n",
       "\t&lt;line x1=&quot;4073.80&quot; y1=&quot;4800.10&quot; x2=&quot;4073.80&quot; y2=&quot;674.88&quot; style=&quot;stroke:#9B9B9B;stroke-width:8.64&quot;/&gt;\n",
       "\t&lt;path d=&quot; M673.67 3239.52 L843.76 3221.83 L1013.68 3298.97 L1183.60 3350.52 L1353.69 3285.57 L1523.61 3244.85 L1693.71 3243.82 L1863.63 3049.33 L2033.72 2996.58 L2203.64 2752.09 L2373.73 2565.68 L2543.65 2314.66 L2713.74 2266.04 L2883.67 2100.24 L3053.76 1644.25 L3223.68 1213.86 L3393.60 954.07 L3563.69 1059.74 L3733.61 1152.17 L3903.70 1283.44 L4073.62 1395.29&quot; stroke-linecap=&quot;round&quot; stroke-linejoin=&quot;round&quot; style=&quot;fill:none;stroke:#DC143C;stroke-width:34.56&quot;/&gt;\n",
       "\t&lt;path d=&quot; M673.67 3987.77 L843.76 4001.68 L1013.68 4057.52 L1183.60 4057.35 L1353.69 3990.00 L1523.61 4001.00 L1693.71 4036.39 L1863.63 3970.07 L2033.72 3991.03 L2203.64 3889.32 L2373.73 3778.84 L2543.65 3669.91 L2713.74 3694.14 L2883.67 3614.08 L3053.76 3495.87 L3223.68 3316.32 L3393.60 3143.48 L3563.69 3152.93 L3733.61 3255.85 L3903.70 3354.30 L4073.62 3448.79&quot; stroke-linecap=&quot;round&quot; stroke-linejoin=&quot;round&quot; style=&quot;fill:none;stroke:#008000;stroke-width:34.56&quot;/&gt;\n",
       "\t&lt;line x1=&quot;578.66&quot; y1=&quot;4705.09&quot; x2=&quot;518.70&quot; y2=&quot;4705.09&quot; style=&quot;stroke:#9B9B9B;stroke-width:8.64&quot;/&gt;\n",
       "\t&lt;text x=&quot;488.80&quot; y=&quot;4747.10&quot; style=&quot;font-family:&#x27;Helvetica&#x27;;font-size:119.92px;fill:#000000&quot; text-anchor=&quot;end&quot;&gt;0&lt;/text&gt;\n",
       "\t&lt;line x1=&quot;578.66&quot; y1=&quot;3721.29&quot; x2=&quot;518.70&quot; y2=&quot;3721.29&quot; style=&quot;stroke:#9B9B9B;stroke-width:8.64&quot;/&gt;\n",
       "\t&lt;text x=&quot;488.80&quot; y=&quot;3763.30&quot; style=&quot;font-family:&#x27;Helvetica&#x27;;font-size:119.92px;fill:#000000&quot; text-anchor=&quot;end&quot;&gt;5&lt;/text&gt;\n",
       "\t&lt;line x1=&quot;578.66&quot; y1=&quot;2737.49&quot; x2=&quot;518.70&quot; y2=&quot;2737.49&quot; style=&quot;stroke:#9B9B9B;stroke-width:8.64&quot;/&gt;\n",
       "\t&lt;text x=&quot;488.80&quot; y=&quot;2779.51&quot; style=&quot;font-family:&#x27;Helvetica&#x27;;font-size:119.92px;fill:#000000&quot; text-anchor=&quot;end&quot;&gt;10&lt;/text&gt;\n",
       "\t&lt;line x1=&quot;578.66&quot; y1=&quot;1753.69&quot; x2=&quot;518.70&quot; y2=&quot;1753.69&quot; style=&quot;stroke:#9B9B9B;stroke-width:8.64&quot;/&gt;\n",
       "\t&lt;text x=&quot;488.80&quot; y=&quot;1795.71&quot; style=&quot;font-family:&#x27;Helvetica&#x27;;font-size:119.92px;fill:#000000&quot; text-anchor=&quot;end&quot;&gt;15&lt;/text&gt;\n",
       "\t&lt;line x1=&quot;578.66&quot; y1=&quot;769.89&quot; x2=&quot;518.70&quot; y2=&quot;769.89&quot; style=&quot;stroke:#9B9B9B;stroke-width:8.64&quot;/&gt;\n",
       "\t&lt;text x=&quot;488.80&quot; y=&quot;811.91&quot; style=&quot;font-family:&#x27;Helvetica&#x27;;font-size:119.92px;fill:#000000&quot; text-anchor=&quot;end&quot;&gt;20&lt;/text&gt;\n",
       "\t&lt;text x=&quot;265.12&quot; y=&quot;2737.49&quot; style=&quot;font-family:&#x27;Helvetica&#x27;;font-size:119.92px;fill:#000000&quot; transform=&quot;rotate(-90 265.12,2737.49)&quot; text-anchor=&quot;middle&quot;&gt;% US undergrads enrolled at for-profits&lt;/text&gt;\n",
       "\t&lt;line x1=&quot;673.84&quot; y1=&quot;4800.10&quot; x2=&quot;673.84&quot; y2=&quot;4860.06&quot; style=&quot;stroke:#9B9B9B;stroke-width:8.64&quot;/&gt;\n",
       "\t&lt;text x=&quot;673.84&quot; y=&quot;4973.99&quot; style=&quot;font-family:&#x27;Helvetica&#x27;;font-size:119.92px;fill:#000000&quot; text-anchor=&quot;middle&quot;&gt;1995&lt;/text&gt;\n",
       "\t&lt;line x1=&quot;1523.79&quot; y1=&quot;4800.10&quot; x2=&quot;1523.79&quot; y2=&quot;4860.06&quot; style=&quot;stroke:#9B9B9B;stroke-width:8.64&quot;/&gt;\n",
       "\t&lt;text x=&quot;1523.79&quot; y=&quot;4973.99&quot; style=&quot;font-family:&#x27;Helvetica&#x27;;font-size:119.92px;fill:#000000&quot; text-anchor=&quot;middle&quot;&gt;2000&lt;/text&gt;\n",
       "\t&lt;line x1=&quot;2373.73&quot; y1=&quot;4800.10&quot; x2=&quot;2373.73&quot; y2=&quot;4860.06&quot; style=&quot;stroke:#9B9B9B;stroke-width:8.64&quot;/&gt;\n",
       "\t&lt;text x=&quot;2373.73&quot; y=&quot;4973.99&quot; style=&quot;font-family:&#x27;Helvetica&#x27;;font-size:119.92px;fill:#000000&quot; text-anchor=&quot;middle&quot;&gt;2005&lt;/text&gt;\n",
       "\t&lt;line x1=&quot;3223.68&quot; y1=&quot;4800.10&quot; x2=&quot;3223.68&quot; y2=&quot;4860.06&quot; style=&quot;stroke:#9B9B9B;stroke-width:8.64&quot;/&gt;\n",
       "\t&lt;text x=&quot;3223.68&quot; y=&quot;4973.99&quot; style=&quot;font-family:&#x27;Helvetica&#x27;;font-size:119.92px;fill:#000000&quot; text-anchor=&quot;middle&quot;&gt;2010&lt;/text&gt;\n",
       "\t&lt;line x1=&quot;4073.80&quot; y1=&quot;4800.10&quot; x2=&quot;4073.80&quot; y2=&quot;4860.06&quot; style=&quot;stroke:#9B9B9B;stroke-width:8.64&quot;/&gt;\n",
       "\t&lt;text x=&quot;4073.80&quot; y=&quot;4973.99&quot; style=&quot;font-family:&#x27;Helvetica&#x27;;font-size:119.92px;fill:#000000&quot; text-anchor=&quot;middle&quot;&gt;2015&lt;/text&gt;\n",
       "\t&lt;rect x=&quot;1097.18&quot; y=&quot;1193.24&quot; width=&quot;736.55&quot; height=&quot;429.53&quot; style=&quot;fill:#FAF0E6&quot;/&gt;\n",
       "\t&lt;rect x=&quot;1101.50&quot; y=&quot;1197.56&quot; width=&quot;727.91&quot; height=&quot;420.89&quot; style=&quot;fill:none;stroke:#FAF0E6;stroke-width:8.64&quot;/&gt;\n",
       "\t&lt;line x1=&quot;1161.95&quot; y1=&quot;1317.97&quot; x2=&quot;1377.92&quot; y2=&quot;1317.97&quot; style=&quot;stroke:#DC143C;stroke-width:34.56&quot;/&gt;\n",
       "\t&lt;line x1=&quot;1161.95&quot; y1=&quot;1498.03&quot; x2=&quot;1377.92&quot; y2=&quot;1498.03&quot; style=&quot;stroke:#008000;stroke-width:34.56&quot;/&gt;\n",
       "\t&lt;text x=&quot;1467.95&quot; y=&quot;1359.99&quot; style=&quot;font-family:&#x27;Helvetica&#x27;;font-size:119.92px;fill:#000000&quot;&gt;Black&lt;/text&gt;\n",
       "\t&lt;text x=&quot;1467.95&quot; y=&quot;1540.05&quot; style=&quot;font-family:&#x27;Helvetica&#x27;;font-size:119.92px;fill:#000000&quot;&gt;white&lt;/text&gt;\n",
       "\t&lt;text x=&quot;177.14&quot; y=&quot;5164.87&quot; style=&quot;font-family:&#x27;Helvetica&#x27;;font-size:119.92px;fill:#000000&quot;&gt;Design based on Plate 40 of Du Bois 1900 Paris Exhibition (Battle-Baptiste&lt;/text&gt;\n",
       "\t&lt;text x=&quot;177.14&quot; y=&quot;5284.80&quot; style=&quot;font-family:&#x27;Helvetica&#x27;;font-size:119.92px;fill:#000000&quot;&gt;&amp;amp; Russert 2018; Stark 2019). Rendered using Du Bois Stata scheme:&lt;/text&gt;\n",
       "\t&lt;text x=&quot;2160.00&quot; y=&quot;612.87&quot; style=&quot;font-family:&#x27;Helvetica&#x27;;font-size:119.92px;fill:#000000&quot; text-anchor=&quot;middle&quot;&gt;By Charlie Eaton, University of California-Merced&lt;/text&gt;\n",
       "\t&lt;text x=&quot;2160.00&quot; y=&quot;282.05&quot; style=&quot;font-family:&#x27;Helvetica&#x27;;font-size:149.99px;fill:#000000&quot; text-anchor=&quot;middle&quot;&gt;SHARE OF ALL U.S. UNDERGRADS&lt;/text&gt;\n",
       "\t&lt;text x=&quot;2160.00&quot; y=&quot;432.04&quot; style=&quot;font-family:&#x27;Helvetica&#x27;;font-size:149.99px;fill:#000000&quot; text-anchor=&quot;middle&quot;&gt;ENROLLED AT FOR-PROFIT COLLEGES BY RACE&lt;/text&gt;\n",
       "&lt;/svg&gt;\n",
       "</body></html>\"></iframe>\n"
      ],
      "text/plain": [
       "This front-end cannot display the desired image type."
      ]
     },
     "metadata": {
      "image/svg+xml": {
       "height": 764,
       "width": 600
      },
      "text/html": {
       "height": 764,
       "width": 600
      }
     },
     "output_type": "display_data"
    },
    {
     "name": "stdout",
     "output_type": "stream",
     "text": [
      "\n",
      "\n",
      "\n",
      "(file duboisforprofits.pdf written in PDF format)\n"
     ]
    }
   ],
   "source": [
    "tw (connect pctunderbkaat pctunderwhitt year if year>1994, sort ///\n",
    "legend(order(1 \"Black\" 2 \"white\") bmargin(vlarge) ring(0) position(11)) ///\n",
    "\txlabel(1995(5)2015) ///\n",
    "\tytitle(\"% US undergrads enrolled at for-profits\") ///\n",
    "\txtitle(\"\") scheme(dubois) ///\n",
    "    title(\"SHARE OF ALL U.S. UNDERGRADS\" \"ENROLLED AT FOR-PROFIT COLLEGES BY RACE\") ///\n",
    "    subtitle(\"By Charlie Eaton, University of California-Merced\") ///\n",
    "    note(\"Design based on Plate 40 of Du Bois 1900 Paris Exhibition (Battle-Baptiste\" \"& Russert 2018; Stark 2019). Rendered using Du Bois Stata scheme:\" ///\n",
    "    \"\"))\n",
    "graph export duboisforprofits.pdf, replace"
   ]
  },
  {
   "cell_type": "code",
   "execution_count": 4,
   "metadata": {},
   "outputs": [
    {
     "name": "stdout",
     "output_type": "stream",
     "text": [
      "\n",
      "     +---------------------------------------+\n",
      "     | year   contro~n   pctun~at   pctun~tt |\n",
      "     |---------------------------------------|\n",
      "  1. | 1995          3   7.448499    3.64571 |\n",
      "  2. | 1996          3   7.538774   3.574949 |\n",
      "  3. | 1997          3   7.146708    3.29165 |\n",
      "  4. | 1998          3   6.884762   3.292242 |\n",
      "  5. | 1999          3   7.214427   3.634142 |\n",
      "     |---------------------------------------|\n",
      "  6. | 2000          3   7.421838   3.578652 |\n",
      "  7. | 2001          3   7.426902   3.398357 |\n",
      "  8. | 2002          3   8.415788   3.735366 |\n",
      "  9. | 2003          3   8.683502   3.629119 |\n",
      " 10. | 2004          3   9.926032   4.145864 |\n",
      "     |---------------------------------------|\n",
      " 11. | 2005          3   10.87337   4.707864 |\n",
      " 12. | 2006          3   12.14934   5.260962 |\n",
      " 13. | 2007          3    12.3966   5.138046 |\n",
      " 14. | 2008          3   13.23893    5.54493 |\n",
      " 15. | 2009          3   15.55692   6.145695 |\n",
      "     |---------------------------------------|\n",
      " 16. | 2010          3   17.74415   7.058594 |\n",
      " 17. | 2011          3   19.06433   7.936503 |\n",
      " 18. | 2012          3    18.5277   7.888471 |\n",
      " 19. | 2013          3   18.05778   7.365822 |\n",
      " 20. | 2014          3   17.39003   6.865711 |\n",
      "     |---------------------------------------|\n",
      " 21. | 2015          3   16.82232   6.385098 |\n",
      "     +---------------------------------------+\n"
     ]
    }
   ],
   "source": [
    "list"
   ]
  }
 ],
 "metadata": {
  "kernelspec": {
   "display_name": "Stata",
   "language": "stata",
   "name": "stata"
  },
  "language_info": {
   "codemirror_mode": "stata",
   "file_extension": ".do",
   "mimetype": "text/x-stata",
   "name": "stata",
   "version": "15.1"
  }
 },
 "nbformat": 4,
 "nbformat_minor": 4
}
